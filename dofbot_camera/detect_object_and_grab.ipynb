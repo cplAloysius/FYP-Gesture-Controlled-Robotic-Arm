{
 "cells": [
  {
   "cell_type": "code",
   "execution_count": 1,
   "id": "03174ce3-dd93-414b-bf6b-2e5ba85d55d0",
   "metadata": {},
   "outputs": [],
   "source": [
    "import cv2 as cv\n",
    "from matplotlib import pyplot as plt\n",
    "import numpy as np\n",
    "import time\n",
    "import ipywidgets.widgets as widgets\n",
    "from cvlib.object_detection import YOLO\n",
    "import threading\n",
    "from identify_target import identify_GetTarget"
   ]
  },
  {
   "cell_type": "code",
   "execution_count": 2,
   "id": "9dd9d36d-ceb0-4cf5-bffb-b744889ad9f1",
   "metadata": {},
   "outputs": [],
   "source": [
    "import Arm_Lib\n",
    "arm = Arm_Lib.Arm_Device()\n",
    "joints_0 = [90, 135, 0, 0, 90, 30]\n",
    "arm.Arm_serial_servo_write6_array(joints_0, 1000)"
   ]
  },
  {
   "cell_type": "code",
   "execution_count": 3,
   "id": "536e1022-d65b-4322-8659-03d1a2a08386",
   "metadata": {},
   "outputs": [],
   "source": [
    "target = identify_GetTarget()"
   ]
  },
  {
   "cell_type": "code",
   "execution_count": 38,
   "id": "5c22f761-dedb-479a-9876-ded920fe665d",
   "metadata": {},
   "outputs": [],
   "source": [
    "def scaling(x, y):\n",
    "        scale_x = 1\n",
    "        scale_y = 1\n",
    "        if y<240:\n",
    "            scale_y = y/240\n",
    "        if x<320:\n",
    "            scale_x = x/320\n",
    "        elif x>320:\n",
    "            scale_x = (x-320)/3200 + 1\n",
    "\n",
    "        return scale_x, scale_y\n",
    "\n",
    "def camera(capture):\n",
    "    start_time = time.time()\n",
    "    frame_count = 0\n",
    "    fps_total = 0\n",
    "    \n",
    "    global camera_stop, cntr, obj\n",
    "    while capture.isOpened() and not camera_stop:\n",
    "        _, img = capture.read()\n",
    "        \n",
    "        if not grab:\n",
    "            bbox, label, conf = yolo.detect_objects(img)\n",
    "            yolo.draw_bbox(img, bbox, label, conf, write_conf=True)\n",
    "            if obj in label:\n",
    "                index = label.index(obj)\n",
    "                centre = (int((bbox[index][0] + bbox[index][2])/2), int((bbox[index][1] + bbox[index][3])/2))\n",
    "                scale_x, scale_y = scaling(centre[0], centre[1])\n",
    "                cntr = (round((((centre[0]*scale_x) - 320) / 4000), 5), round(((480 - (centre[1]*scale_y)) / 3000) * 0.8+0.19, 5))\n",
    "            else:\n",
    "                cntr = None\n",
    "        cur_time = time.time()\n",
    "        elapsed = cur_time - start_time\n",
    "        start_time = cur_time\n",
    "        fps = 1/elapsed\n",
    "        frame_count += 1\n",
    "        fps_total += fps\n",
    "        avg_fps = fps_total/frame_count\n",
    "        fps_txt = \"FPS: {:.2f}, Avg FPS: {:.2f}\".format(fps, avg_fps)\n",
    "        cv.putText(img, fps_txt, (30, 430), cv.FONT_HERSHEY_COMPLEX_SMALL, 1, (0,0,255), 1)\n",
    "        \n",
    "        image_widget.value = cv.imencode('.jpg', img)[1].tobytes()\n",
    "\n",
    "    capture.release()\n",
    "    cv.destroyAllWindows()"
   ]
  },
  {
   "cell_type": "code",
   "execution_count": 39,
   "id": "3890d004-1c50-4944-b04b-75e003db9d5c",
   "metadata": {},
   "outputs": [],
   "source": [
    "def claw():\n",
    "    global grab\n",
    "    grab = not grab\n",
    "    threading.Thread(target=target.target_run, args=(cntr,)).start()\n",
    "    if not target.move_status:\n",
    "        grab = not grab"
   ]
  },
  {
   "cell_type": "code",
   "execution_count": 41,
   "id": "a11f57c0-edc0-4a3b-b28e-7d09292ddc70",
   "metadata": {},
   "outputs": [
    {
     "name": "stdout",
     "output_type": "stream",
     "text": [
      "[INFO] Initializing YOLO ..\n"
     ]
    },
    {
     "data": {
      "application/vnd.jupyter.widget-view+json": {
       "model_id": "d310aca62902412c941ea42e7413124c",
       "version_major": 2,
       "version_minor": 0
      },
      "text/plain": [
       "Image(value=b'', format='jpeg', height='480', width='640')"
      ]
     },
     "metadata": {},
     "output_type": "display_data"
    }
   ],
   "source": [
    "yolo = YOLO('yolov4-tiny-custom_best.weights', 'yolov4-tiny-test.cfg', 'obj.names')\n",
    "capture = cv.VideoCapture(0)\n",
    "cntr = None\n",
    "camera_stop = 0\n",
    "grab = 0\n",
    "image_widget = widgets.Image(format='jpeg', width=640, height=480)\n",
    "display(image_widget)\n",
    "threading.Thread(target=camera, args=(capture,)).start()"
   ]
  },
  {
   "cell_type": "code",
   "execution_count": 49,
   "id": "e98d9a16-4593-492c-b3cd-b47c1ca3542d",
   "metadata": {},
   "outputs": [],
   "source": [
    "obj = \"yellow\""
   ]
  },
  {
   "cell_type": "code",
   "execution_count": 50,
   "id": "0a56c8cb-3b0b-43d2-9ef4-ae797380f688",
   "metadata": {},
   "outputs": [],
   "source": [
    "claw()"
   ]
  },
  {
   "cell_type": "code",
   "execution_count": 51,
   "id": "ac67b24a-b29f-423a-9427-6de11fa60b21",
   "metadata": {},
   "outputs": [],
   "source": [
    "claw()"
   ]
  },
  {
   "cell_type": "code",
   "execution_count": 52,
   "id": "b291e567-8f6e-43da-9b5c-1f4b37dc139b",
   "metadata": {},
   "outputs": [],
   "source": [
    "camera_stop = 1"
   ]
  },
  {
   "cell_type": "code",
   "execution_count": null,
   "id": "e7ad3546-ec12-4787-9143-a28ebc3ae3b0",
   "metadata": {},
   "outputs": [],
   "source": []
  }
 ],
 "metadata": {
  "kernelspec": {
   "display_name": "Python 3 (ipykernel)",
   "language": "python",
   "name": "python3"
  },
  "language_info": {
   "codemirror_mode": {
    "name": "ipython",
    "version": 3
   },
   "file_extension": ".py",
   "mimetype": "text/x-python",
   "name": "python",
   "nbconvert_exporter": "python",
   "pygments_lexer": "ipython3",
   "version": "3.8.0"
  }
 },
 "nbformat": 4,
 "nbformat_minor": 5
}
