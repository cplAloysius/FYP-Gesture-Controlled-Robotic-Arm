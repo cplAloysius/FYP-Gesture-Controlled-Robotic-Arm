{
 "cells": [
  {
   "cell_type": "code",
   "execution_count": 84,
   "id": "5c9fcfc3-73c9-4333-9a27-e649a94b346d",
   "metadata": {},
   "outputs": [
    {
     "ename": "ModuleNotFoundError",
     "evalue": "No module named 'positioning'",
     "output_type": "error",
     "traceback": [
      "\u001b[0;31m---------------------------------------------------------------------------\u001b[0m",
      "\u001b[0;31mModuleNotFoundError\u001b[0m                       Traceback (most recent call last)",
      "Cell \u001b[0;32mIn[84], line 5\u001b[0m\n\u001b[1;32m      3\u001b[0m \u001b[38;5;28;01mimport\u001b[39;00m \u001b[38;5;21;01mtime\u001b[39;00m\n\u001b[1;32m      4\u001b[0m \u001b[38;5;28;01mimport\u001b[39;00m \u001b[38;5;21;01mnumpy\u001b[39;00m \u001b[38;5;28;01mas\u001b[39;00m \u001b[38;5;21;01mnp\u001b[39;00m\n\u001b[0;32m----> 5\u001b[0m \u001b[38;5;28;01mfrom\u001b[39;00m \u001b[38;5;21;01mpositioning\u001b[39;00m \u001b[38;5;28;01mimport\u001b[39;00m color_follow\n\u001b[1;32m      7\u001b[0m \u001b[38;5;66;03m# image_widget = widgets.Image(format='jpeg', width=600, height=500)  #设置摄像头显示组件\u001b[39;00m\n\u001b[1;32m      8\u001b[0m \u001b[38;5;66;03m# display(image_widget)\u001b[39;00m\n\u001b[1;32m      9\u001b[0m \n\u001b[0;32m   (...)\u001b[0m\n\u001b[1;32m     12\u001b[0m \n\u001b[1;32m     13\u001b[0m \u001b[38;5;66;03m# img = cv2.VideoCapture(0)\u001b[39;00m\n",
      "\u001b[0;31mModuleNotFoundError\u001b[0m: No module named 'positioning'"
     ]
    }
   ],
   "source": [
    "import cv2\n",
    "import ipywidgets.widgets as widgets\n",
    "import time\n",
    "import numpy as np\n",
    "from positioning import color_follow\n",
    "\n",
    "# image_widget = widgets.Image(format='jpeg', width=600, height=500)  #设置摄像头显示组件\n",
    "# display(image_widget)\n",
    "\n",
    "# def bgr8_to_jpeg(value, quality=75):\n",
    "#     return bytes(cv2.imencode('.jpg', value)[1])\n",
    "\n",
    "# img = cv2.VideoCapture(0)"
   ]
  },
  {
   "cell_type": "code",
   "execution_count": null,
   "id": "70112273-8a1c-44aa-803a-6fd53ecb0e2a",
   "metadata": {},
   "outputs": [],
   "source": [
    "follow = color_follow()\n",
    "model = 'General'\n",
    "HSV_learning = ()\n",
    "color_hsv = {\"red\": ((0, 25, 90), (10, 255, 255)),\n",
    "             \"green\": ((53, 36, 40), (80, 255, 255)),\n",
    "             \"blue\": ((110, 80, 90), (120, 255, 255)),\n",
    "             \"yellow\": ((25, 20, 55), (50, 255, 255))}\n",
    "color = [[random.randint(0, 255) for _ in range(3)] for _ in range(255)]\n",
    "HSV_path=\"/root/dofbot_ws/src/dofbot_color_follow/HSV_config.txt\"\n",
    "try: read_HSV(HSV_path,color_hsv)\n",
    "except Exception: print(\"Read HSV_config Error !!!\")"
   ]
  },
  {
   "cell_type": "code",
   "execution_count": 82,
   "id": "ef9b1bba-dac0-4f20-9a27-4cc60d768df6",
   "metadata": {},
   "outputs": [
    {
     "name": "stdout",
     "output_type": "stream",
     "text": [
      " Program closed! \n"
     ]
    }
   ],
   "source": [
    "try:\n",
    "    while 1:\n",
    "        ret, frame = img.read()       \n",
    "        image_widget.value = image_widget.value = bgr8_to_jpeg(frame)\n",
    "        time.sleep(0.010)\n",
    "\n",
    "except KeyboardInterrupt:\n",
    "    print(\" Program closed! \")\n",
    "    pass"
   ]
  },
  {
   "cell_type": "code",
   "execution_count": 83,
   "id": "30343ed3-a1ed-4eb5-beb9-69c805fbb382",
   "metadata": {},
   "outputs": [],
   "source": [
    "img.release()"
   ]
  },
  {
   "cell_type": "code",
   "execution_count": null,
   "id": "80da92be-a543-4cf1-ae9c-20cc0183f496",
   "metadata": {},
   "outputs": [],
   "source": []
  }
 ],
 "metadata": {
  "kernelspec": {
   "display_name": "Python 3 (ipykernel)",
   "language": "python",
   "name": "python3"
  },
  "language_info": {
   "codemirror_mode": {
    "name": "ipython",
    "version": 3
   },
   "file_extension": ".py",
   "mimetype": "text/x-python",
   "name": "python",
   "nbconvert_exporter": "python",
   "pygments_lexer": "ipython3",
   "version": "3.8.0"
  }
 },
 "nbformat": 4,
 "nbformat_minor": 5
}
