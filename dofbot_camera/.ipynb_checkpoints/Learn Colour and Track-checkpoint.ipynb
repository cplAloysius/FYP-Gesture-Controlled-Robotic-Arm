{
 "cells": [
  {
   "cell_type": "code",
   "execution_count": 1,
   "id": "21830c30-7f73-46d6-9b76-6460fd7141ef",
   "metadata": {},
   "outputs": [],
   "source": [
    "import cv2 as cv\n",
    "import ipywidgets.widgets as widgets\n",
    "from color_tracking import color_follow\n",
    "from dofbot_config import *\n",
    "import threading"
   ]
  },
  {
   "cell_type": "code",
   "execution_count": 2,
   "id": "91f6d52b-6be0-4c1f-b353-5895e53eeb6b",
   "metadata": {},
   "outputs": [],
   "source": [
    "import Arm_Lib\n",
    "Arm = Arm_Lib.Arm_Device()\n",
    "joints_0 = [90, 135, 20, 25, 90, 30]\n",
    "Arm.Arm_serial_servo_write6_array(joints_0, 1000)"
   ]
  },
  {
   "cell_type": "code",
   "execution_count": 3,
   "id": "555841a3-c973-416c-9a5c-e69ffcbddc5e",
   "metadata": {},
   "outputs": [],
   "source": [
    "follow = color_follow()\n",
    "model = 'General'\n",
    "HSV_learning = ()\n",
    "color_hsv = {\"red\": ((0, 25, 90), (10, 255, 255)),\n",
    "             \"green\": ((53, 36, 40), (80, 255, 255)),\n",
    "             \"blue\": ((110, 80, 90), (120, 255, 255)),\n",
    "             \"yellow\": ((25, 20, 55), (50, 255, 255))}\n",
    "HSV_path=\"HSV_config.txt\"\n",
    "read_HSV(HSV_path,color_hsv)"
   ]
  },
  {
   "cell_type": "code",
   "execution_count": 4,
   "id": "894a6338-a236-42b5-8531-cfa19eb62380",
   "metadata": {},
   "outputs": [],
   "source": [
    "def learning(capture):\n",
    "    global learning_stop, HSV_learning\n",
    "    while capture.isOpened() and not learning_stop:\n",
    "        _, img = capture.read()\n",
    "        img, HSV_learning = follow.get_hsv(img)\n",
    "        image_widget.value = cv.imencode('.jpg', img)[1].tobytes()"
   ]
  },
  {
   "cell_type": "code",
   "execution_count": 5,
   "id": "bfbc0000-228b-483d-8a45-9431b72c7a96",
   "metadata": {},
   "outputs": [],
   "source": [
    "def camera(capture):\n",
    "    global camera_stop, HSV_learning\n",
    "    while capture.isOpened() and not camera_stop:\n",
    "        _, img = capture.read()\n",
    "        if len(HSV_learning)!=0:\n",
    "            img = follow.learning_follow(img, HSV_learning)\n",
    "            \n",
    "        image_widget.value = cv.imencode('.jpg', img)[1].tobytes()\n",
    "\n",
    "    capture.release()\n",
    "    cv.destroyAllWindows()"
   ]
  },
  {
   "cell_type": "code",
   "execution_count": 13,
   "id": "b97709e8-7b8a-4c80-be03-27903168b93f",
   "metadata": {},
   "outputs": [
    {
     "data": {
      "application/vnd.jupyter.widget-view+json": {
       "model_id": "0a32ba1e3e7040d8aad1282bbb9c0a3e",
       "version_major": 2,
       "version_minor": 0
      },
      "text/plain": [
       "Image(value=b'', format='jpeg', height='480', width='640')"
      ]
     },
     "metadata": {},
     "output_type": "display_data"
    }
   ],
   "source": [
    "capture = cv.VideoCapture(0)\n",
    "learning_stop = 0\n",
    "camera_stop = 0\n",
    "image_widget = widgets.Image(format='jpeg', width=640, height=480)\n",
    "display(image_widget)\n",
    "threading.Thread(target=learning, args=(capture,)).start()"
   ]
  },
  {
   "cell_type": "code",
   "execution_count": 14,
   "id": "b37229ba-61f6-452d-838d-6e6f274155bd",
   "metadata": {},
   "outputs": [],
   "source": [
    "learning_stop = 1\n",
    "threading.Thread(target=camera, args=(capture,)).start()"
   ]
  },
  {
   "cell_type": "code",
   "execution_count": 15,
   "id": "32fa0c5f-ca7b-4c47-938f-b22b2e39fc97",
   "metadata": {},
   "outputs": [],
   "source": [
    "camera_stop = 1"
   ]
  }
 ],
 "metadata": {
  "kernelspec": {
   "display_name": "Python 3 (ipykernel)",
   "language": "python",
   "name": "python3"
  },
  "language_info": {
   "codemirror_mode": {
    "name": "ipython",
    "version": 3
   },
   "file_extension": ".py",
   "mimetype": "text/x-python",
   "name": "python",
   "nbconvert_exporter": "python",
   "pygments_lexer": "ipython3",
   "version": "3.8.0"
  }
 },
 "nbformat": 4,
 "nbformat_minor": 5
}
