{
 "cells": [
  {
   "cell_type": "code",
   "execution_count": 1,
   "id": "dfbe2d49-f253-4764-8e23-904358297f51",
   "metadata": {},
   "outputs": [],
   "source": [
    "import cv2 as cv\n",
    "import ipywidgets.widgets as widgets\n",
    "from dofbot_config import *\n",
    "import threading\n",
    "from identify_target import identify_GetTarget\n",
    "from time import sleep"
   ]
  },
  {
   "cell_type": "code",
   "execution_count": 2,
   "id": "805d0958-254a-4d24-9697-0bbcb33c48a7",
   "metadata": {},
   "outputs": [],
   "source": [
    "import Arm_Lib\n",
    "arm = Arm_Lib.Arm_Device()\n",
    "joints_0 = [90, 135, 0, 0, 90, 30]\n",
    "arm.Arm_serial_servo_write6_array(joints_0, 1000)"
   ]
  },
  {
   "cell_type": "code",
   "execution_count": 3,
   "id": "d0767b30-891a-469c-99ba-4f34e9e3f7a1",
   "metadata": {},
   "outputs": [],
   "source": [
    "calibration = Arm_Calibration()\n",
    "target = identify_GetTarget()\n",
    "HSV_learning = ()\n",
    "cntr = ()\n",
    "color_hsv = {\"red\": ((0, 25, 90), (10, 255, 255)),\n",
    "             \"green\": ((53, 36, 40), (80, 255, 255)),\n",
    "             \"blue\": ((110, 80, 90), (120, 255, 255)),\n",
    "             \"yellow\": ((25, 20, 55), (50, 255, 255))}\n",
    "HSV_path=\"HSV_config.txt\"\n",
    "read_HSV(HSV_path,color_hsv)"
   ]
  },
  {
   "cell_type": "code",
   "execution_count": 4,
   "id": "978001d4-ac49-40fc-a5ae-c1a24c168f0a",
   "metadata": {},
   "outputs": [],
   "source": [
    "def learning(capture):\n",
    "    global learning_stop, HSV_learning\n",
    "    while capture.isOpened() and not learning_stop:\n",
    "        _, img = capture.read()\n",
    "        img, HSV_learning = calibration.get_hsv(img)\n",
    "        image_widget.value = cv.imencode('.jpg', img)[1].tobytes()"
   ]
  },
  {
   "cell_type": "code",
   "execution_count": 9,
   "id": "a1c34a79-9e01-414c-b874-34f400e7ebb8",
   "metadata": {},
   "outputs": [],
   "source": [
    "def grabbing(capture):\n",
    "    global grab_stop, HSV_learning, cntr, grab\n",
    "    while capture.isOpened() and not grab_stop:\n",
    "        _, img = capture.read()\n",
    "        cv.line(img, (0,240), (640,240), (0,255,0))\n",
    "        cv.line(img, (0,160), (640,160), (0,255,0))\n",
    "        cv.line(img, (0,80), (640,80), (0,255,0))\n",
    "        if len(HSV_learning)!=0:\n",
    "            img, cntr = target.follow_function(img, HSV_learning)\n",
    "            if grab:\n",
    "                threading.Thread(target=target.target_run, args=(cntr,)).start()\n",
    "                grab_stop = 1\n",
    "\n",
    "        image_widget.value = cv.imencode('.jpg', img)[1].tobytes()\n",
    "\n",
    "    capture.release()\n",
    "    cv.destroyAllWindows()"
   ]
  },
  {
   "cell_type": "code",
   "execution_count": 10,
   "id": "ea4b87d8-842b-4fc9-af1b-570bc9ea7b51",
   "metadata": {},
   "outputs": [
    {
     "data": {
      "application/vnd.jupyter.widget-view+json": {
       "model_id": "f153404233bf4703b3deeb7ce934f604",
       "version_major": 2,
       "version_minor": 0
      },
      "text/plain": [
       "Image(value=b'', format='jpeg', height='480', width='640')"
      ]
     },
     "metadata": {},
     "output_type": "display_data"
    }
   ],
   "source": [
    "capture = cv.VideoCapture(0)\n",
    "learning_stop = 0\n",
    "grab_stop = 0\n",
    "grab = 0\n",
    "image_widget = widgets.Image(format='jpeg', width=640, height=480)\n",
    "display(image_widget)\n",
    "threading.Thread(target=learning, args=(capture,)).start()"
   ]
  },
  {
   "cell_type": "code",
   "execution_count": 11,
   "id": "34c14b1f-6112-44a7-93ea-f476cf6579be",
   "metadata": {},
   "outputs": [],
   "source": [
    "learning_stop = 1\n",
    "threading.Thread(target=grabbing, args=(capture,)).start()"
   ]
  },
  {
   "cell_type": "code",
   "execution_count": 8,
   "id": "8a84094b-9cc3-4208-8a2d-231c28047166",
   "metadata": {},
   "outputs": [],
   "source": [
    "grab = 1"
   ]
  },
  {
   "cell_type": "code",
   "execution_count": 12,
   "id": "65e68dd2-6d8f-4ae3-b04e-dd701f792ffa",
   "metadata": {},
   "outputs": [],
   "source": [
    "grab_stop = 1"
   ]
  },
  {
   "cell_type": "code",
   "execution_count": null,
   "id": "3673e414-3751-4969-b2bc-51e99b9d9f44",
   "metadata": {},
   "outputs": [],
   "source": []
  }
 ],
 "metadata": {
  "kernelspec": {
   "display_name": "Python 3 (ipykernel)",
   "language": "python",
   "name": "python3"
  },
  "language_info": {
   "codemirror_mode": {
    "name": "ipython",
    "version": 3
   },
   "file_extension": ".py",
   "mimetype": "text/x-python",
   "name": "python",
   "nbconvert_exporter": "python",
   "pygments_lexer": "ipython3",
   "version": "3.8.0"
  }
 },
 "nbformat": 4,
 "nbformat_minor": 5
}
