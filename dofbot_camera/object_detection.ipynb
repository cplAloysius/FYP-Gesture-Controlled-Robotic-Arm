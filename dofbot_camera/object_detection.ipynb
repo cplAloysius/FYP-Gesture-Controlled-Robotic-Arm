{
 "cells": [
  {
   "cell_type": "code",
   "execution_count": 1,
   "id": "5c4b32f6-0d7c-45ad-906e-34edb87832d4",
   "metadata": {},
   "outputs": [],
   "source": [
    "import cv2 as cv\n",
    "from matplotlib import pyplot as plt\n",
    "import numpy as np\n",
    "import time\n",
    "import ipywidgets.widgets as widgets\n",
    "from cvlib.object_detection import YOLO\n",
    "import threading"
   ]
  },
  {
   "cell_type": "code",
   "execution_count": 6,
   "id": "86f19bd0-dd44-4b39-b77e-0f79a6024c08",
   "metadata": {},
   "outputs": [
    {
     "name": "stdout",
     "output_type": "stream",
     "text": [
      "[INFO] Initializing YOLO ..\n"
     ]
    }
   ],
   "source": [
    "yolo = YOLO('yolov4-tiny-custom_best.weights', 'yolov4-tiny-test.cfg', 'obj.names')"
   ]
  },
  {
   "cell_type": "code",
   "execution_count": 41,
   "id": "46f015e7-5343-42bb-a04c-776aa90f3d39",
   "metadata": {},
   "outputs": [],
   "source": [
    "def camera(capture):\n",
    "    start_time = time.time()\n",
    "    frame_count = 0\n",
    "    fps_total = 0\n",
    "    \n",
    "    global camera_stop, HSV_learning\n",
    "    while capture.isOpened() and not camera_stop:\n",
    "        _, img = capture.read()\n",
    "\n",
    "        bbox, label, conf = yolo.detect_objects(img)\n",
    "        yolo.draw_bbox(img, bbox, label, conf, write_conf=True)\n",
    "        \n",
    "        cur_time = time.time()\n",
    "        elapsed = cur_time - start_time\n",
    "        start_time = cur_time\n",
    "        fps = 1/elapsed\n",
    "        frame_count += 1\n",
    "        fps_total += fps\n",
    "        avg_fps = fps_total/frame_count\n",
    "        fps_txt = \"FPS: {:.2f}, Avg FPS: {:.2f}\".format(fps, avg_fps)\n",
    "        cv.putText(img, fps_txt, (30, 430), cv.FONT_HERSHEY_COMPLEX_SMALL, 1, (0,0,255), 1)\n",
    "        \n",
    "        image_widget.value = cv.imencode('.jpg', img)[1].tobytes()\n",
    "\n",
    "    capture.release()\n",
    "    cv.destroyAllWindows()"
   ]
  },
  {
   "cell_type": "code",
   "execution_count": 44,
   "id": "6ee6cced-03e4-4c04-945a-6508e00af372",
   "metadata": {},
   "outputs": [
    {
     "data": {
      "application/vnd.jupyter.widget-view+json": {
       "model_id": "0d060b1b4eed4bdda93c2b27745a8dad",
       "version_major": 2,
       "version_minor": 0
      },
      "text/plain": [
       "Image(value=b'', format='jpeg', height='480', width='640')"
      ]
     },
     "metadata": {},
     "output_type": "display_data"
    }
   ],
   "source": [
    "capture = cv.VideoCapture(0)\n",
    "camera_stop = 0\n",
    "image_widget = widgets.Image(format='jpeg', width=640, height=480)\n",
    "display(image_widget)\n",
    "threading.Thread(target=camera, args=(capture,)).start()"
   ]
  },
  {
   "cell_type": "code",
   "execution_count": 45,
   "id": "5186360b-3ea7-4992-8906-59535e703672",
   "metadata": {},
   "outputs": [],
   "source": [
    "camera_stop = 1"
   ]
  },
  {
   "cell_type": "code",
   "execution_count": null,
   "id": "55e3d215-d808-44f7-915d-a68ef3d484c9",
   "metadata": {},
   "outputs": [],
   "source": []
  }
 ],
 "metadata": {
  "kernelspec": {
   "display_name": "Python 3 (ipykernel)",
   "language": "python",
   "name": "python3"
  },
  "language_info": {
   "codemirror_mode": {
    "name": "ipython",
    "version": 3
   },
   "file_extension": ".py",
   "mimetype": "text/x-python",
   "name": "python",
   "nbconvert_exporter": "python",
   "pygments_lexer": "ipython3",
   "version": "3.8.0"
  }
 },
 "nbformat": 4,
 "nbformat_minor": 5
}
