<<<<<<< HEAD
=======
{
 "cells": [
  {
   "cell_type": "code",
   "execution_count": 1,
   "id": "5c4b32f6-0d7c-45ad-906e-34edb87832d4",
   "metadata": {},
   "outputs": [],
   "source": [
    "import cv2 as cv\n",
    "from matplotlib import pyplot as plt\n",
    "import numpy as np\n",
    "import time\n",
    "import ipywidgets.widgets as widgets\n",
    "from cvlib.object_detection import YOLO\n",
    "import threading"
   ]
  },
  {
   "cell_type": "code",
   "execution_count": 3,
   "id": "46f015e7-5343-42bb-a04c-776aa90f3d39",
   "metadata": {},
   "outputs": [],
   "source": [
    "def camera(capture):\n",
    "    start_time = time.time()\n",
    "    frame_count = 0\n",
    "    fps_total = 0\n",
    "    \n",
    "    global camera_stop\n",
    "    while capture.isOpened() and not camera_stop:\n",
    "        _, img = capture.read()\n",
    "\n",
    "        bbox, label, conf = yolo.detect_objects(img)\n",
    "        yolo.draw_bbox(img, bbox, label, conf, write_conf=True)\n",
    "        \n",
    "        cur_time = time.time()\n",
    "        elapsed = cur_time - start_time\n",
    "        start_time = cur_time\n",
    "        fps = 1/elapsed\n",
    "        frame_count += 1\n",
    "        fps_total += fps\n",
    "        avg_fps = fps_total/frame_count\n",
    "        fps_txt = \"FPS: {:.2f}, Avg FPS: {:.2f}\".format(fps, avg_fps)\n",
    "        cv.putText(img, fps_txt, (30, 430), cv.FONT_HERSHEY_COMPLEX_SMALL, 1, (0,0,255), 1)\n",
    "        \n",
    "        image_widget.value = cv.imencode('.jpg', img)[1].tobytes()\n",
    "\n",
    "    capture.release()\n",
    "    cv.destroyAllWindows()"
   ]
  },
  {
   "cell_type": "code",
   "execution_count": 4,
   "id": "6ee6cced-03e4-4c04-945a-6508e00af372",
   "metadata": {},
   "outputs": [
    {
     "data": {
      "application/vnd.jupyter.widget-view+json": {
       "model_id": "8d49ca7e9bf24274a4a8d448036812aa",
       "version_major": 2,
       "version_minor": 0
      },
      "text/plain": [
       "Image(value=b'', format='jpeg', height='480', width='640')"
      ]
     },
     "metadata": {},
     "output_type": "display_data"
    }
   ],
   "source": [
    "yolo = YOLO('yolov4-tiny-custom_best.weights', 'yolov4-tiny-test.cfg', 'obj.names')\n",
    "capture = cv.VideoCapture(0)\n",
    "camera_stop = 0\n",
    "image_widget = widgets.Image(format='jpeg', width=640, height=480)\n",
    "display(image_widget)\n",
    "threading.Thread(target=camera, args=(capture,)).start()"
   ]
  },
  {
   "cell_type": "code",
   "execution_count": 5,
   "id": "5186360b-3ea7-4992-8906-59535e703672",
   "metadata": {},
   "outputs": [],
   "source": [
    "camera_stop = 1"
   ]
  },
  {
   "cell_type": "code",
   "execution_count": 5,
   "id": "26a7df69-d069-4a11-9eb1-f8f9ec30dd4b",
   "metadata": {},
   "outputs": [],
   "source": []
  },
  {
   "cell_type": "code",
   "execution_count": 2,
   "id": "55e3d215-d808-44f7-915d-a68ef3d484c9",
   "metadata": {},
   "outputs": [],
   "source": [
    "def init_yolo(config, weights, labels):\n",
    "    with open(labels, 'r') as f:\n",
    "        classes = [line.strip() for line in f.readlines()]\n",
    "    colours = np.random.randint(0, 255, size=(len(classes), 3), dtype='uint8')\n",
    "\n",
    "    net = cv.dnn.readNet(config, weights)\n",
    "    net.setPreferableBackend(cv.dnn.DNN_BACKEND_OPENCV)\n",
    "\n",
    "    ln = net.getLayerNames()\n",
    "    ln = [ln[i - 1] for i in net.getUnconnectedOutLayers()]\n",
    "\n",
    "    return net, ln, classes, colours\n",
    "\n",
    "def detect(img, net, ln, classes, colours, score_thresh=0.5, iou_thresh=0.4):\n",
    "    blob = cv.dnn.blobFromImage(img, 1/255.0, (416, 416), swapRB=True, crop=False)\n",
    "    net.setInput(blob)\n",
    "    outputs = net.forward(ln)\n",
    "\n",
    "    boxes = []\n",
    "    confidences = []\n",
    "    classIDs = []\n",
    "    h, w = img.shape[:2]\n",
    "\n",
    "    for output in outputs:\n",
    "        for detection in output:\n",
    "            scores = detection[5:]\n",
    "            classID = np.argmax(scores)\n",
    "            confidence = scores[classID]\n",
    "            if confidence > score_thresh:\n",
    "                box = detection[:4] * np.array([w, h, w, h])\n",
    "                (centerX, centerY, width, height) = box.astype(\"int\")\n",
    "                x = int(centerX - (width / 2))\n",
    "                y = int(centerY - (height / 2))\n",
    "                box = [x, y, int(width), int(height)]\n",
    "                boxes.append(box)\n",
    "                confidences.append(float(confidence))\n",
    "                classIDs.append(classID)\n",
    "\n",
    "    indices = cv.dnn.NMSBoxes(boxes, confidences, score_thresh, iou_thresh)\n",
    "    if len(indices) > 0:\n",
    "        for i in indices.flatten():\n",
    "            (x, y) = (boxes[i][0], boxes[i][1])\n",
    "            (w, h) = (boxes[i][2], boxes[i][3])\n",
    "            color = [int(c) for c in colours[classIDs[i]]]\n",
    "            cv.rectangle(img, (x, y), (x + w, y + h), color, 2)\n",
    "            text = \"{}: {:.4f}\".format(classes[classIDs[i]], confidences[i])\n",
    "            cv.putText(img, text, (x, y - 5), cv.FONT_HERSHEY_SIMPLEX, 0.5, color, 1)\n",
    "    \n",
    "    return img"
   ]
  },
  {
   "cell_type": "code",
   "execution_count": 3,
   "id": "859e79e0-4b45-4238-a61f-ff2c5bde82aa",
   "metadata": {},
   "outputs": [],
   "source": [
    "def camera1(capture):\n",
    "    start_time = time.time()\n",
    "    frame_count = 0\n",
    "    fps_total = 0\n",
    "    \n",
    "    global camera_stop\n",
    "    while capture.isOpened() and not camera_stop1:\n",
    "        _, img = capture.read()\n",
    "\n",
    "        detect(img, net, ln, classes, colours)\n",
    "        \n",
    "        cur_time = time.time()\n",
    "        elapsed = cur_time - start_time\n",
    "        start_time = cur_time\n",
    "        fps = 1/elapsed\n",
    "        frame_count += 1\n",
    "        fps_total += fps\n",
    "        avg_fps = fps_total/frame_count\n",
    "        fps_txt = \"FPS: {:.2f}, Avg FPS: {:.2f}\".format(fps, avg_fps)\n",
    "        cv.putText(img, fps_txt, (30, 430), cv.FONT_HERSHEY_COMPLEX_SMALL, 1, (0,0,255), 1)\n",
    "        \n",
    "        image_widget.value = cv.imencode('.jpg', img)[1].tobytes()\n",
    "\n",
    "    capture.release()\n",
    "    cv.destroyAllWindows()"
   ]
  },
  {
   "cell_type": "code",
   "execution_count": 4,
   "id": "53c74c80-64b5-4ae7-9e0e-372bd59cec9e",
   "metadata": {},
   "outputs": [
    {
     "data": {
      "application/vnd.jupyter.widget-view+json": {
       "model_id": "db2e3591a11747bc915fb766a4f12373",
       "version_major": 2,
       "version_minor": 0
      },
      "text/plain": [
       "Image(value=b'', format='jpeg', height='480', width='640')"
      ]
     },
     "metadata": {},
     "output_type": "display_data"
    }
   ],
   "source": [
    "net, ln, classes, colours = init_yolo('yolov4-tiny-test.cfg', 'yolov4-tiny-custom_best.weights', 'obj.names')\n",
    "capture = cv.VideoCapture(0)\n",
    "camera_stop1 = 0\n",
    "image_widget = widgets.Image(format='jpeg', width=640, height=480)\n",
    "display(image_widget)\n",
    "threading.Thread(target=camera1, args=(capture,)).start()"
   ]
  },
  {
   "cell_type": "code",
   "execution_count": 5,
   "id": "a5a2f9d8-c107-464b-b06e-ba799cd64d53",
   "metadata": {},
   "outputs": [],
   "source": [
    "camera_stop1 = 1"
   ]
  },
  {
   "cell_type": "code",
   "execution_count": null,
   "id": "d158d36d-33fd-4a1e-a58e-f2ac57cbfb1c",
   "metadata": {},
   "outputs": [],
   "source": []
  }
 ],
 "metadata": {
  "kernelspec": {
   "display_name": "Python 3 (ipykernel)",
   "language": "python",
   "name": "python3"
  },
  "language_info": {
   "codemirror_mode": {
    "name": "ipython",
    "version": 3
   },
   "file_extension": ".py",
   "mimetype": "text/x-python",
   "name": "python",
   "nbconvert_exporter": "python",
   "pygments_lexer": "ipython3",
   "version": "3.8.0"
  }
 },
 "nbformat": 4,
 "nbformat_minor": 5
}
>>>>>>> bdbb5e34b700a5e649053043b9fdcabb9baf810d
