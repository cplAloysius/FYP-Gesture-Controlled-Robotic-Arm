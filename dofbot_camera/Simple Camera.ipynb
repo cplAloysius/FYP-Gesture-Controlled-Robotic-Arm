{
 "cells": [
  {
   "cell_type": "code",
   "execution_count": 103,
   "id": "5c9fcfc3-73c9-4333-9a27-e649a94b346d",
   "metadata": {},
   "outputs": [
    {
     "data": {
      "application/vnd.jupyter.widget-view+json": {
       "model_id": "b666c26d2ac544d4821d0943c8e524df",
       "version_major": 2,
       "version_minor": 0
      },
      "text/plain": [
       "Image(value=b'', format='jpeg', height='500', width='600')"
      ]
     },
     "metadata": {},
     "output_type": "display_data"
    }
   ],
   "source": [
    "import cv2\n",
    "import ipywidgets.widgets as widgets\n",
    "import time\n",
    "import numpy as np\n",
    "\n",
    "image_widget = widgets.Image(format='jpeg', width=600, height=500)  #设置摄像头显示组件\n",
    "display(image_widget)\n",
    "\n",
    "def bgr8_to_jpeg(value, quality=75):\n",
    "    return bytes(cv2.imencode('.jpg', value)[1])\n",
    "\n",
    "img = cv2.VideoCapture(0)"
   ]
  },
  {
   "cell_type": "code",
   "execution_count": 104,
   "id": "ef9b1bba-dac0-4f20-9a27-4cc60d768df6",
   "metadata": {},
   "outputs": [
    {
     "name": "stdout",
     "output_type": "stream",
     "text": [
      " Program closed! \n"
     ]
    }
   ],
   "source": [
    "try:\n",
    "    while 1:\n",
    "        ret, frame = img.read()       \n",
    "        image_widget.value = bgr8_to_jpeg(frame)\n",
    "        time.sleep(0.010)\n",
    "\n",
    "except KeyboardInterrupt:\n",
    "    print(\" Program closed! \")\n",
    "    pass"
   ]
  },
  {
   "cell_type": "code",
   "execution_count": 105,
   "id": "30343ed3-a1ed-4eb5-beb9-69c805fbb382",
   "metadata": {},
   "outputs": [],
   "source": [
    "img.release()"
   ]
  },
  {
   "cell_type": "code",
   "execution_count": null,
   "id": "80da92be-a543-4cf1-ae9c-20cc0183f496",
   "metadata": {},
   "outputs": [],
   "source": []
  }
 ],
 "metadata": {
  "kernelspec": {
   "display_name": "Python 3 (ipykernel)",
   "language": "python",
   "name": "python3"
  },
  "language_info": {
   "codemirror_mode": {
    "name": "ipython",
    "version": 3
   },
   "file_extension": ".py",
   "mimetype": "text/x-python",
   "name": "python",
   "nbconvert_exporter": "python",
   "pygments_lexer": "ipython3",
   "version": "3.8.0"
  }
 },
 "nbformat": 4,
 "nbformat_minor": 5
}
